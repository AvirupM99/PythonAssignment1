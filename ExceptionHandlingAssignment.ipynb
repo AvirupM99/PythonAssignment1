{
 "cells": [
  {
   "cell_type": "code",
   "execution_count": 8,
   "metadata": {},
   "outputs": [
    {
     "name": "stdout",
     "output_type": "stream",
     "text": [
      "Exception raised for dividing by zero\n"
     ]
    }
   ],
   "source": [
    "#Q1 Exception Handling\n",
    "\n",
    "def ExceptionHandling(a,b):\n",
    "    try:\n",
    "        result = a/b\n",
    "        print(\"This is your answer:\", result)\n",
    "    except ZeroDivisionError:\n",
    "        print(\"Exception raised for dividing by zero\")\n",
    "\n",
    "ExceptionHandling(5,0)"
   ]
  },
  {
   "cell_type": "code",
   "execution_count": 10,
   "metadata": {},
   "outputs": [
    {
     "name": "stdout",
     "output_type": "stream",
     "text": [
      "Americans play Baseball\n",
      "Americans play Cricket\n",
      "Americans watch Baseball\n",
      "Americans watch Cricket\n",
      "Indians play Baseball\n",
      "Indians play Baseball\n",
      "Indians watch Cricket\n",
      "Indians watch Cricket\n"
     ]
    }
   ],
   "source": [
    "#Q2 Generate sentences\n",
    "subjects = ['Americans', 'Indians']\n",
    "verbs = ['play', 'watch']\n",
    "objects = ['Baseball', 'Cricket']\n",
    "print(subjects[0] + ' ' + verbs[0] + ' ' + objects[0])\n",
    "print(subjects[0] + ' ' + verbs[0] + ' ' + objects[1])\n",
    "print(subjects[0] + ' ' + verbs[1] + ' ' + objects[0])\n",
    "print(subjects[0] + ' ' + verbs[1] + ' ' + objects[1])\n",
    "print(subjects[1] + ' ' + verbs[0] + ' ' + objects[0])\n",
    "print(subjects[1] + ' ' + verbs[0] + ' ' + objects[0])\n",
    "print(subjects[1] + ' ' + verbs[1] + ' ' + objects[1])\n",
    "print(subjects[1] + ' ' + verbs[1] + ' ' + objects[1])"
   ]
  },
  {
   "cell_type": "code",
   "execution_count": null,
   "metadata": {},
   "outputs": [],
   "source": []
  }
 ],
 "metadata": {
  "kernelspec": {
   "display_name": "Python 3",
   "language": "python",
   "name": "python3"
  },
  "language_info": {
   "codemirror_mode": {
    "name": "ipython",
    "version": 3
   },
   "file_extension": ".py",
   "mimetype": "text/x-python",
   "name": "python",
   "nbconvert_exporter": "python",
   "pygments_lexer": "ipython3",
   "version": "3.8.5"
  }
 },
 "nbformat": 4,
 "nbformat_minor": 4
}
