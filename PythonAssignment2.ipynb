{
 "cells": [
  {
   "cell_type": "code",
   "execution_count": 1,
   "metadata": {},
   "outputs": [
    {
     "name": "stdout",
     "output_type": "stream",
     "text": [
      " \n",
      " *\n",
      " **\n",
      " ***\n",
      " ****\n",
      " *****\n",
      " *****\n",
      " ****\n",
      " ***\n",
      " **\n",
      " *\n"
     ]
    }
   ],
   "source": [
    "#  Q1 to print the star series\n",
    "    \n",
    "txt=\" \"\n",
    "for i in range(6):\n",
    "    j = 0 \n",
    "    for j in range(i):\n",
    "        txt = txt+\"*\"\n",
    "    print(txt)\n",
    "    txt = \" \"\n",
    "for i in range(5):\n",
    "    j=-0\n",
    "    for j in range(5-i):\n",
    "        txt = txt + \"*\"\n",
    "    print(txt)\n",
    "    txt = \" \""
   ]
  },
  {
   "cell_type": "code",
   "execution_count": 2,
   "metadata": {},
   "outputs": [
    {
     "name": "stdout",
     "output_type": "stream",
     "text": [
      "Enter your word to reverse:ineuron\n",
      "norueni\n",
      "\n"
     ]
    }
   ],
   "source": [
    "# Q2 to reverse a word after input\n",
    "\n",
    "word = input(\"Enter your word to reverse:\")\n",
    "\n",
    "for char in range(len(word)-1, -1, -1):\n",
    "    print(word[char], end=\"\")\n",
    "print(\"\\n\")   "
   ]
  },
  {
   "cell_type": "code",
   "execution_count": null,
   "metadata": {},
   "outputs": [],
   "source": []
  }
 ],
 "metadata": {
  "kernelspec": {
   "display_name": "Python 3",
   "language": "python",
   "name": "python3"
  },
  "language_info": {
   "codemirror_mode": {
    "name": "ipython",
    "version": 3
   },
   "file_extension": ".py",
   "mimetype": "text/x-python",
   "name": "python",
   "nbconvert_exporter": "python",
   "pygments_lexer": "ipython3",
   "version": "3.8.5"
  }
 },
 "nbformat": 4,
 "nbformat_minor": 4
}
