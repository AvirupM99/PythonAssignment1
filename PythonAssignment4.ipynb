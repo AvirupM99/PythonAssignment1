{
 "cells": [
  {
   "cell_type": "code",
   "execution_count": 14,
   "metadata": {},
   "outputs": [
    {
     "name": "stdout",
     "output_type": "stream",
     "text": [
      "Enter a:5\n",
      "Enter b:6\n",
      "Enter c:7\n",
      "area : 14.696938456699069\n"
     ]
    }
   ],
   "source": [
    "#Q1.1\n",
    "class Triangle:\n",
    "    def __init__(self,a,b,c):\n",
    "        self.a = float(a)\n",
    "        self.b = float(b)\n",
    "        self.c = float(c)\n",
    "\n",
    "a = int(input(\"Enter a:\"))\n",
    "b = int(input(\"Enter b:\"))\n",
    "c = int(input(\"Enter c:\"))\n",
    "\n",
    "class Area(Triangle):\n",
    "    def get_area(self):\n",
    "        s = (a+b+c)/2\n",
    "        return (s*(s-a)*(s-b)*(s-c)) ** 0.5\n",
    "t = Area(a,b,c)\n",
    "print(\"area : {}\".format(t.get_area()))"
   ]
  },
  {
   "cell_type": "code",
   "execution_count": 15,
   "metadata": {},
   "outputs": [
    {
     "name": "stdout",
     "output_type": "stream",
     "text": [
      "Enter words, separated by spaces: cat lion tiger cheetah\n",
      "Minimum length of words to keep: 3\n",
      "Words longer than 3 are lion, tiger, cheetah.\n"
     ]
    }
   ],
   "source": [
    "#Q1.2\n",
    "def filter_long_words(wordlist, n):\n",
    "    return (word for word in wordlist if len(word) > n)\n",
    "\n",
    "def main():\n",
    "    words = input(\"Enter words, separated by spaces: \").split()\n",
    "    n = int(input(\"Minimum length of words to keep: \"))\n",
    "    print(\"Words longer than {} are {}.\".format(n,\n",
    "          ', '.join(filter_long_words(words, n))))\n",
    "main()"
   ]
  },
  {
   "cell_type": "code",
   "execution_count": 22,
   "metadata": {},
   "outputs": [
    {
     "name": "stdout",
     "output_type": "stream",
     "text": [
      "Enter the words : avi,avir,aviru,avirup\n",
      "The length of words: [3, 4, 5, 6]\n"
     ]
    }
   ],
   "source": [
    "#Q2.1\n",
    "def map_words_to_length(wordlist):\n",
    "    return list(map(len, wordlist))\n",
    "\n",
    "words = list(input(\"Enter the words : \").split(\",\"))\n",
    "wordlist = [x.strip() for x in words]\n",
    "\n",
    "length_of_words = map_words_to_length(wordlist)\n",
    "print(\"The length of words:\", length_of_words)\n"
   ]
  },
  {
   "cell_type": "code",
   "execution_count": 26,
   "metadata": {},
   "outputs": [
    {
     "name": "stdout",
     "output_type": "stream",
     "text": [
      "Enter letter to check that it is Vowel or not\n",
      "Input Value: r\n",
      "Output Value: False\n"
     ]
    }
   ],
   "source": [
    "#Q2.2\n",
    "def check_word_vowel(input_letter):\n",
    "    return_value = ' '\n",
    "    if(len(input_letter) == 1):\n",
    "        vowels = ['a', 'e', 'i', 'o', 'u']\n",
    "        if (input_letter.lower() in vowels):\n",
    "            return_value = True\n",
    "        else :\n",
    "            return_value = False\n",
    "    else:\n",
    "        return_value = \"Please enter a single alphabet only\"\n",
    "    return return_value\n",
    "\n",
    "print(\"Enter letter to check that it is Vowel or not\")\n",
    "input_value = input(\"Input Value: \")\n",
    "output_value=check_word_vowel(input_value) \n",
    "print(\"Output Value:\",output_value)"
   ]
  },
  {
   "cell_type": "code",
   "execution_count": null,
   "metadata": {},
   "outputs": [],
   "source": []
  }
 ],
 "metadata": {
  "kernelspec": {
   "display_name": "Python 3",
   "language": "python",
   "name": "python3"
  },
  "language_info": {
   "codemirror_mode": {
    "name": "ipython",
    "version": 3
   },
   "file_extension": ".py",
   "mimetype": "text/x-python",
   "name": "python",
   "nbconvert_exporter": "python",
   "pygments_lexer": "ipython3",
   "version": "3.8.5"
  }
 },
 "nbformat": 4,
 "nbformat_minor": 4
}
