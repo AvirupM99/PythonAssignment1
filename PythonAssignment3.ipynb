{
 "cells": [
  {
   "cell_type": "code",
   "execution_count": 12,
   "metadata": {},
   "outputs": [
    {
     "name": "stdout",
     "output_type": "stream",
     "text": [
      "12000000\n"
     ]
    }
   ],
   "source": [
    "#Q1.1\n",
    "\n",
    "def myreduce(multiply,list1):\n",
    "    return a\n",
    "def multiply(a,b):\n",
    "    return a*b\n",
    "list1=[10,20,30,40,50]\n",
    "a=list1[0]\n",
    "for i in range(1,len(list1)):\n",
    "    b=list1[i]\n",
    "    a=multiply(a,b)\n",
    "print(myreduce(multiply,list1))"
   ]
  },
  {
   "cell_type": "code",
   "execution_count": 13,
   "metadata": {},
   "outputs": [
    {
     "name": "stdout",
     "output_type": "stream",
     "text": [
      "[0, 11, 13, 15, 17, 19]\n"
     ]
    }
   ],
   "source": [
    "#Q1.2\n",
    "def myFilter(is_odd, list2):\n",
    "    return is_odd(a)\n",
    "list2 = [11,12,13,14,15,16,17,18,19,20]\n",
    "list3 = [0]\n",
    "def is_odd(a):\n",
    "    for i in list2:\n",
    "        if i%2 != 0:\n",
    "            list3.append(i)\n",
    "    print(list3)\n",
    "myFilter(is_odd, list2)"
   ]
  },
  {
   "cell_type": "code",
   "execution_count": 26,
   "metadata": {},
   "outputs": [
    {
     "name": "stdout",
     "output_type": "stream",
     "text": [
      "['x', 'xx', 'xxx', 'xxxx', 'y', 'yy', 'yyy', 'yyyy', 'z', 'zz', 'zzz', 'zzzz']\n",
      "['x', 'y', 'z', 'xx', 'yy', 'zz', 'xxx', 'yyy', 'zzz', 'xxxx', 'yyyy', 'zzzz']\n"
     ]
    }
   ],
   "source": [
    "#Q2\n",
    "letters = list('xyz')\n",
    "pattern1 = [i*j for i in 'xyz' for j in range(1,5)]\n",
    "pattern2 = [i*j for j in range(1,5) for i in 'xyz']\n",
    "\n",
    "print(pattern1)\n",
    "print(pattern2)"
   ]
  },
  {
   "cell_type": "code",
   "execution_count": 27,
   "metadata": {},
   "outputs": [
    {
     "name": "stdout",
     "output_type": "stream",
     "text": [
      "[2, 3, 4, 3, 4, 5, 4, 5, 6]\n"
     ]
    }
   ],
   "source": [
    "numbers = [2,3,4]\n",
    "pattern3 = [i+j for i in numbers for j in range(0,3)]\n",
    "\n",
    "print (pattern3)"
   ]
  },
  {
   "cell_type": "code",
   "execution_count": 29,
   "metadata": {},
   "outputs": [
    {
     "name": "stdout",
     "output_type": "stream",
     "text": [
      "[2, 3, 4, 5, 3, 4, 5, 6, 4, 5, 6, 7, 5, 6, 7, 8]\n"
     ]
    }
   ],
   "source": [
    "numbers = [2,3,4,5]\n",
    "pattern4 = [i+j for i in numbers for j in range(0,4)]\n",
    "\n",
    "print(pattern4)"
   ]
  },
  {
   "cell_type": "code",
   "execution_count": 32,
   "metadata": {},
   "outputs": [
    {
     "name": "stdout",
     "output_type": "stream",
     "text": [
      "[(1, 1), (2, 1), (3, 1), (1, 2), (2, 2), (3, 2), (1, 3), (2, 3), (3, 3)]\n"
     ]
    }
   ],
   "source": [
    "numbers = [1,2,3]\n",
    "pattern5 = [(j,i) for i in numbers for j in numbers]\n",
    "print(pattern5) "
   ]
  },
  {
   "cell_type": "code",
   "execution_count": null,
   "metadata": {},
   "outputs": [],
   "source": []
  }
 ],
 "metadata": {
  "kernelspec": {
   "display_name": "Python 3",
   "language": "python",
   "name": "python3"
  },
  "language_info": {
   "codemirror_mode": {
    "name": "ipython",
    "version": 3
   },
   "file_extension": ".py",
   "mimetype": "text/x-python",
   "name": "python",
   "nbconvert_exporter": "python",
   "pygments_lexer": "ipython3",
   "version": "3.8.5"
  }
 },
 "nbformat": 4,
 "nbformat_minor": 4
}
